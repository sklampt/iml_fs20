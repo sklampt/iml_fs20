{
 "cells": [
  {
   "cell_type": "code",
   "execution_count": 3,
   "metadata": {},
   "outputs": [],
   "source": [
    "import numpy as np\n",
    "\n",
    "import tensorflow as tf\n",
    "\n",
    "from tensorflow import keras\n",
    "from tensorflow.keras import layers\n",
    "\n",
    "tf.keras.backend.clear_session()  # For easy reset of notebook state.\n"
   ]
  },
  {
   "cell_type": "code",
   "execution_count": 4,
   "metadata": {},
   "outputs": [
    {
     "name": "stdout",
     "output_type": "stream",
     "text": [
      "Index(['A', 'B', 'C', 'class'], dtype='object')\n"
     ]
    }
   ],
   "source": [
    "import pandas as pd\n",
    "\n",
    "data=pd.read_excel('new_data_2.xlsx',dtype=str,headers=None,names=['A','B','C','class'])\n",
    "print(data.columns)\n",
    "A_data = data[['A', 'class']].copy()\n",
    "B_data = data[['B', 'class']].copy()\n",
    "C_data = data[['C', 'class']].copy()\n",
    "A_train=A_data.iloc[:50000,:]\n",
    "B_train=B_data.iloc[:50000,:]\n",
    "C_train=C_data.iloc[:50000,:]\n",
    "A_test=A_data.iloc[50000:,:]\n",
    "B_test=B_data.iloc[50000:,:]\n",
    "C_test=C_data.iloc[50000:,:]\n",
    "y=data['class']"
   ]
  },
  {
   "cell_type": "code",
   "execution_count": 17,
   "metadata": {},
   "outputs": [
    {
     "data": {
      "text/plain": [
       "A        02461\n",
       "class        1\n",
       "Name: 0, dtype: object"
      ]
     },
     "execution_count": 17,
     "metadata": {},
     "output_type": "execute_result"
    }
   ],
   "source": [
    "A_train.iloc[0,:]"
   ]
  },
  {
   "cell_type": "code",
   "execution_count": 3,
   "metadata": {},
   "outputs": [],
   "source": [
    "from tensorflow.keras import layers\n",
    "from tensorflow.keras import Model\n",
    "def make_model(input_shape):\n",
    "    x = layers.Conv2D(16, 3, activation='relu')(input_shape)\n",
    "    x = layers.MaxPooling2D(2)(x)\n",
    "    x = layers.Conv2D(32, 3, activation='relu')(x)\n",
    "    x = layers.MaxPooling2D(2)(x)\n",
    "    x = layers.Conv2D(64, 3, activation='relu')(x)\n",
    "    x = layers.MaxPooling2D(2)(x)\n",
    "    x = layers.Flatten()(x)\n",
    "    model = Model(input_shape, x)\n",
    "    return model"
   ]
  },
  {
   "cell_type": "code",
   "execution_count": 4,
   "metadata": {},
   "outputs": [
    {
     "name": "stdout",
     "output_type": "stream",
     "text": [
      "Model: \"model_3\"\n",
      "__________________________________________________________________________________________________\n",
      "Layer (type)                    Output Shape         Param #     Connected to                     \n",
      "==================================================================================================\n",
      "input_1 (InputLayer)            [(None, 450, 300, 3) 0                                            \n",
      "__________________________________________________________________________________________________\n",
      "input_2 (InputLayer)            [(None, 450, 300, 3) 0                                            \n",
      "__________________________________________________________________________________________________\n",
      "input_3 (InputLayer)            [(None, 450, 300, 3) 0                                            \n",
      "__________________________________________________________________________________________________\n",
      "conv2d (Conv2D)                 (None, 448, 298, 16) 448         input_1[0][0]                    \n",
      "__________________________________________________________________________________________________\n",
      "conv2d_3 (Conv2D)               (None, 448, 298, 16) 448         input_2[0][0]                    \n",
      "__________________________________________________________________________________________________\n",
      "conv2d_6 (Conv2D)               (None, 448, 298, 16) 448         input_3[0][0]                    \n",
      "__________________________________________________________________________________________________\n",
      "max_pooling2d (MaxPooling2D)    (None, 224, 149, 16) 0           conv2d[0][0]                     \n",
      "__________________________________________________________________________________________________\n",
      "max_pooling2d_3 (MaxPooling2D)  (None, 224, 149, 16) 0           conv2d_3[0][0]                   \n",
      "__________________________________________________________________________________________________\n",
      "max_pooling2d_6 (MaxPooling2D)  (None, 224, 149, 16) 0           conv2d_6[0][0]                   \n",
      "__________________________________________________________________________________________________\n",
      "conv2d_1 (Conv2D)               (None, 222, 147, 32) 4640        max_pooling2d[0][0]              \n",
      "__________________________________________________________________________________________________\n",
      "conv2d_4 (Conv2D)               (None, 222, 147, 32) 4640        max_pooling2d_3[0][0]            \n",
      "__________________________________________________________________________________________________\n",
      "conv2d_7 (Conv2D)               (None, 222, 147, 32) 4640        max_pooling2d_6[0][0]            \n",
      "__________________________________________________________________________________________________\n",
      "max_pooling2d_1 (MaxPooling2D)  (None, 111, 73, 32)  0           conv2d_1[0][0]                   \n",
      "__________________________________________________________________________________________________\n",
      "max_pooling2d_4 (MaxPooling2D)  (None, 111, 73, 32)  0           conv2d_4[0][0]                   \n",
      "__________________________________________________________________________________________________\n",
      "max_pooling2d_7 (MaxPooling2D)  (None, 111, 73, 32)  0           conv2d_7[0][0]                   \n",
      "__________________________________________________________________________________________________\n",
      "conv2d_2 (Conv2D)               (None, 109, 71, 64)  18496       max_pooling2d_1[0][0]            \n",
      "__________________________________________________________________________________________________\n",
      "conv2d_5 (Conv2D)               (None, 109, 71, 64)  18496       max_pooling2d_4[0][0]            \n",
      "__________________________________________________________________________________________________\n",
      "conv2d_8 (Conv2D)               (None, 109, 71, 64)  18496       max_pooling2d_7[0][0]            \n",
      "__________________________________________________________________________________________________\n",
      "max_pooling2d_2 (MaxPooling2D)  (None, 54, 35, 64)   0           conv2d_2[0][0]                   \n",
      "__________________________________________________________________________________________________\n",
      "max_pooling2d_5 (MaxPooling2D)  (None, 54, 35, 64)   0           conv2d_5[0][0]                   \n",
      "__________________________________________________________________________________________________\n",
      "max_pooling2d_8 (MaxPooling2D)  (None, 54, 35, 64)   0           conv2d_8[0][0]                   \n",
      "__________________________________________________________________________________________________\n",
      "flatten (Flatten)               (None, 120960)       0           max_pooling2d_2[0][0]            \n",
      "__________________________________________________________________________________________________\n",
      "flatten_1 (Flatten)             (None, 120960)       0           max_pooling2d_5[0][0]            \n",
      "__________________________________________________________________________________________________\n",
      "flatten_2 (Flatten)             (None, 120960)       0           max_pooling2d_8[0][0]            \n",
      "__________________________________________________________________________________________________\n",
      "concatenate (Concatenate)       (None, 362880)       0           flatten[0][0]                    \n",
      "                                                                 flatten_1[0][0]                  \n",
      "                                                                 flatten_2[0][0]                  \n",
      "__________________________________________________________________________________________________\n",
      "dense (Dense)                   (None, 512)          185795072   concatenate[0][0]                \n",
      "__________________________________________________________________________________________________\n",
      "dense_1 (Dense)                 (None, 1)            513         dense[0][0]                      \n",
      "==================================================================================================\n",
      "Total params: 185,866,337\n",
      "Trainable params: 185,866,337\n",
      "Non-trainable params: 0\n",
      "__________________________________________________________________________________________________\n"
     ]
    }
   ],
   "source": [
    "inputa = keras.Input(shape=(450,300,3))\n",
    "inputb = keras.Input(shape=(450,300,3))\n",
    "inputc = keras.Input(shape=(450,300,3))\n",
    "modela=make_model(inputa)\n",
    "modelb=make_model(inputb)\n",
    "modelc=make_model(inputc)\n",
    "combined = tf.keras.layers.concatenate([modela.output, modelb.output,modelc.output])\n",
    "end = layers.Dense(512, activation='relu')(combined)\n",
    "output = layers.Dense(1, activation='sigmoid')(end)\n",
    "model = Model(inputs=[modela.input, modelb.input,modelc.input], outputs=output)\n",
    "model.summary()\n"
   ]
  },
  {
   "cell_type": "code",
   "execution_count": 5,
   "metadata": {},
   "outputs": [],
   "source": [
    "from tensorflow.keras.optimizers import RMSprop\n",
    "\n",
    "model.compile(loss='binary_crossentropy',\n",
    "              optimizer=RMSprop(lr=0.001),\n",
    "              metrics=['acc'])"
   ]
  },
  {
   "cell_type": "code",
   "execution_count": null,
   "metadata": {},
   "outputs": [
    {
     "name": "stdout",
     "output_type": "stream",
     "text": [
      "Found 50000 non-validated image filenames belonging to 2 classes.\n",
      "Found 50000 non-validated image filenames belonging to 2 classes.\n",
      "Found 50000 non-validated image filenames belonging to 2 classes.\n",
      "Epoch 1/10\n",
      " 27/100 [=======>......................] - ETA: 15:28 - loss: 0.6936 - acc: 0.5000"
     ]
    }
   ],
   "source": [
    "from tensorflow.keras.preprocessing.image import ImageDataGenerator\n",
    "input_imgen = ImageDataGenerator(rescale = 1./255)\n",
    "\n",
    "test_imgen = ImageDataGenerator(rescale = 1./255)\n",
    "\n",
    "\n",
    "\n",
    "def generate_generator_multiple(generator,dir1, dir2,dir3, batch_size):\n",
    "    genX1 = generator.flow_from_dataframe(dir1,directory=r'C:\\Users\\Ramon\\Documents\\ETH\\Master\\2. semester\\Introduction to machine learning\\task 4\\food\\food\\\\', x_col=\"A\", y_col=\"class\",\n",
    "                                          target_size = (450,300),\n",
    "                                          class_mode = 'categorical',\n",
    "                                          batch_size = batch_size,\n",
    "                                          shuffle=False, \n",
    "                                          seed=7,validate_filenames=False,drop_duplicates=False)\n",
    "    \n",
    "    genX2 = generator.flow_from_dataframe(dir2,directory=r'C:\\Users\\Ramon\\Documents\\ETH\\Master\\2. semester\\Introduction to machine learning\\task 4\\food\\food\\\\', x_col=\"B\", y_col=\"class\",\n",
    "                                          target_size = (450,300),\n",
    "                                          class_mode = 'categorical',\n",
    "                                          batch_size = batch_size,\n",
    "                                          shuffle=False, \n",
    "                                          seed=7,validate_filenames=False,drop_duplicates=False)\n",
    "    genX3 = generator.flow_from_dataframe(dir3,directory=r'C:\\Users\\Ramon\\Documents\\ETH\\Master\\2. semester\\Introduction to machine learning\\task 4\\food\\food\\\\', x_col=\"C\", y_col=\"class\",\n",
    "                                          target_size = (450,300),\n",
    "                                          class_mode = 'categorical',\n",
    "                                          batch_size = batch_size,\n",
    "                                          shuffle=False, \n",
    "                                          seed=7,validate_filenames=False,drop_duplicates=False)\n",
    "    while True:\n",
    "            X1i = genX1.next()\n",
    "            X2i = genX2.next()\n",
    "            X3i = genX3.next()\n",
    "            yield [X1i[0], X2i[0],X3i[0]], X2i[1]  #Yield both images and their mutual label\n",
    "            \n",
    "            \n",
    "inputgenerator=generate_generator_multiple(generator=input_imgen,\n",
    "                                           dir1=A_train,\n",
    "                                           dir2=B_train,\n",
    "                                           dir3=C_train,\n",
    "                                           batch_size=32)       \n",
    "     \n",
    "testgenerator=generate_generator_multiple(test_imgen,\n",
    "                                          dir1=A_test,\n",
    "                                          dir2=B_test,\n",
    "                                          dir3=C_test,\n",
    "                                          batch_size=32)              \n",
    "          \n",
    "history=model.fit_generator(inputgenerator,\n",
    "                        epochs = 10,\n",
    "                        steps_per_epoch=100,\n",
    "                        validation_data = testgenerator,\n",
    "                        shuffle=False,verbose=1)"
   ]
  },
  {
   "cell_type": "code",
   "execution_count": null,
   "metadata": {},
   "outputs": [],
   "source": []
  }
 ],
 "metadata": {
  "kernelspec": {
   "display_name": "Python 3",
   "language": "python",
   "name": "python3"
  },
  "language_info": {
   "codemirror_mode": {
    "name": "ipython",
    "version": 3
   },
   "file_extension": ".py",
   "mimetype": "text/x-python",
   "name": "python",
   "nbconvert_exporter": "python",
   "pygments_lexer": "ipython3",
   "version": "3.7.3"
  }
 },
 "nbformat": 4,
 "nbformat_minor": 4
}
