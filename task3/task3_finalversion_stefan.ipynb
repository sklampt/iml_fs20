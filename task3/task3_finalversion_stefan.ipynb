{
 "cells": [
  {
   "cell_type": "code",
   "execution_count": 3,
   "metadata": {},
   "outputs": [],
   "source": [
    "import pandas as pd\n",
    "import numpy as np\n",
    "from sklearn.ensemble import RandomForestClassifier\n",
    "from sklearn.metrics import f1_score\n",
    "from sklearn.preprocessing import OneHotEncoder\n",
    "from sklearn.compose import make_column_transformer\n",
    "from sklearn.pipeline import make_pipeline\n",
    "from sklearn.pipeline import Pipeline\n",
    "from sklearn.model_selection import cross_val_score\n",
    "from sklearn.utils.class_weight import compute_class_weight\n",
    "from sklearn.model_selection import GridSearchCV\n",
    "from sklearn.model_selection import cross_val_score\n",
    "from sklearn.neural_network import MLPClassifier"
   ]
  },
  {
   "cell_type": "code",
   "execution_count": 4,
   "metadata": {},
   "outputs": [
    {
     "name": "stdout",
     "output_type": "stream",
     "text": [
      "Sequence    0\n",
      "Active      0\n",
      "dtype: int64\n",
      "Sequence    0\n",
      "dtype: int64\n"
     ]
    }
   ],
   "source": [
    "data = pd.read_csv('train.csv')\n",
    "data_test = pd.read_csv('test.csv')\n",
    "\n",
    "print(data.isna().sum())\n",
    "print(data_test.isna().sum())"
   ]
  },
  {
   "cell_type": "code",
   "execution_count": 5,
   "metadata": {},
   "outputs": [],
   "source": [
    "#separate e.g. FWLG in columns x1: F, x2: W, x3: L, x4: G\n",
    "\n",
    "N=len(data.Sequence)\n",
    "M=len(data_test.Sequence)\n",
    "\n",
    "x1 = np.array(data.Sequence[0][0])\n",
    "x2 = np.array(data.Sequence[0][1])\n",
    "x3 = np.array(data.Sequence[0][2])\n",
    "x4 = np.array(data.Sequence[0][3])\n",
    "\n",
    "x1_t = np.array(data_test.Sequence[0][0])\n",
    "x2_t = np.array(data_test.Sequence[0][1])\n",
    "x3_t = np.array(data_test.Sequence[0][2])\n",
    "x4_t = np.array(data_test.Sequence[0][3])\n",
    "\n",
    "for i in range(1,N):\n",
    "    \n",
    "    x1 = np.append(x1,data.Sequence[i][0])\n",
    "    x2 = np.append(x2,data.Sequence[i][1])\n",
    "    x3 = np.append(x3,data.Sequence[i][2])\n",
    "    x4 = np.append(x4,data.Sequence[i][3])\n",
    "\n",
    "for j in range(1,M):\n",
    "    \n",
    "    x1_t = np.append(x1_t,data_test.Sequence[j][0])\n",
    "    x2_t = np.append(x2_t,data_test.Sequence[j][1])\n",
    "    x3_t = np.append(x3_t,data_test.Sequence[j][2])\n",
    "    x4_t = np.append(x4_t,data_test.Sequence[j][3])\n",
    "    \n",
    "y = data.Active.to_numpy()"
   ]
  },
  {
   "cell_type": "code",
   "execution_count": 6,
   "metadata": {},
   "outputs": [],
   "source": [
    "#put data back together\n",
    "\n",
    "numpy_data = np.array([x1,x2,x3,x4,y])\n",
    "numpy_data_test = np.array([x1_t,x2_t,x3_t,x4_t])\n",
    "\n",
    "\n",
    "df = pd.DataFrame(data=numpy_data, index=[\"x1\",\"x2\",\"x3\",\"x4\",\"y\"])\n",
    "df = df.transpose()\n",
    "\n",
    "df_t = pd.DataFrame(data=numpy_data_test, index=[\"x1\",\"x2\",\"x3\",\"x4\"])\n",
    "df_t = df_t.transpose()\n",
    "\n",
    "#train data\n",
    "X=df.drop('y',axis='columns')\n",
    "#test data\n",
    "X_t=df_t"
   ]
  },
  {
   "cell_type": "code",
   "execution_count": 7,
   "metadata": {},
   "outputs": [],
   "source": [
    "#OneHotEncoder\n",
    "transformer = make_column_transformer((OneHotEncoder(),['x1','x2','x3','x4']))"
   ]
  },
  {
   "cell_type": "code",
   "execution_count": 8,
   "metadata": {},
   "outputs": [],
   "source": [
    "#first trial: Random Forest => not good enough results\n",
    "\n",
    "rfclassifier = RandomForestClassifier(class_weight={1:20},n_estimators=200)\n",
    "pipe = Pipeline([('transformer', transformer), ('c', rfclassifier)])"
   ]
  },
  {
   "cell_type": "code",
   "execution_count": 9,
   "metadata": {},
   "outputs": [],
   "source": [
    "# rfclassifier = RandomForestClassifier(max_depth=50,max_features=0.3)\n",
    "# pipe = Pipeline([('transformer', transformer), ('c', rfclassifier)])\n",
    "# \n",
    "# parameters = [{'c__class_weight': [{1:50},{1:80},{1:100},{1:120}],\n",
    "#                'c__n_estimators':[400,700]}]\n",
    "# gridSearch = GridSearchCV(estimator = pipe, param_grid = parameters, scoring = 'f1', n_jobs = -1, cv = 5)\n",
    "# gridSearch.fit(X,y)\n",
    "# \n",
    "# best_params_rf = gridSearch.best_params_\n",
    "# print('Best parameter ',best_params_rf)"
   ]
  },
  {
   "cell_type": "code",
   "execution_count": 11,
   "metadata": {},
   "outputs": [],
   "source": [
    "#final solution: MLPClassifier => good results\n",
    "\n",
    "finalclassifier = MLPClassifier()\n",
    "#RandomForestClassifier(class_weight={1:20},n_estimators=200,max_depth=50,max_features=0.1)\n",
    "finalpipe=make_pipeline(transformer,finalclassifier)"
   ]
  },
  {
   "cell_type": "code",
   "execution_count": 12,
   "metadata": {},
   "outputs": [],
   "source": [
    "finalpipe.fit(X,y)\n",
    "y_t = finalpipe.predict(X_t)"
   ]
  },
  {
   "cell_type": "code",
   "execution_count": 13,
   "metadata": {},
   "outputs": [],
   "source": [
    "pd.DataFrame(y_t).to_csv(r\"C:\\Users\\Josephine\\Documents\\A-ETH\\Masterfächer\\Introduction to machine learning\\task 3\\finalfiletask3.csv\",index=False,header=False)"
   ]
  },
  {
   "cell_type": "code",
   "execution_count": null,
   "metadata": {},
   "outputs": [],
   "source": []
  }
 ],
 "metadata": {
  "kernelspec": {
   "display_name": "Python 3",
   "language": "python",
   "name": "python3"
  },
  "language_info": {
   "codemirror_mode": {
    "name": "ipython",
    "version": 3
   },
   "file_extension": ".py",
   "mimetype": "text/x-python",
   "name": "python",
   "nbconvert_exporter": "python",
   "pygments_lexer": "ipython3",
   "version": "3.7.3"
  }
 },
 "nbformat": 4,
 "nbformat_minor": 2
}
